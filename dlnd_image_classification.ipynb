{
 "cells": [
  {
   "cell_type": "markdown",
   "metadata": {
    "collapsed": true
   },
   "source": [
    "# 图像分类\n",
    "\n",
    "在此项目中，你将对 [CIFAR-10 数据集](https://www.cs.toronto.edu/~kriz/cifar.html) 中的图片进行分类。该数据集包含飞机、猫狗和其他物体。你需要预处理这些图片，然后用所有样本训练一个卷积神经网络。图片需要标准化（normalized），标签需要采用 one-hot 编码。你需要应用所学的知识构建卷积的、最大池化（max pooling）、丢弃（dropout）和完全连接（fully connected）的层。最后，你需要在样本图片上看到神经网络的预测结果。\n",
    "\n",
    "\n",
    "## 获取数据\n",
    "\n",
    "请运行以下单元，以下载 [CIFAR-10 数据集（Python版）](https://www.cs.toronto.edu/~kriz/cifar-10-python.tar.gz)。\n"
   ]
  },
  {
   "cell_type": "code",
   "execution_count": 1,
   "metadata": {
    "collapsed": false
   },
   "outputs": [
    {
     "name": "stdout",
     "output_type": "stream",
     "text": [
      "All files found!\n"
     ]
    }
   ],
   "source": [
    "\"\"\"\n",
    "DON'T MODIFY ANYTHING IN THIS CELL THAT IS BELOW THIS LINE\n",
    "\"\"\"\n",
    "from urllib.request import urlretrieve\n",
    "from os.path import isfile, isdir\n",
    "from tqdm import tqdm\n",
    "import problem_unittests as tests\n",
    "import tarfile\n",
    "\n",
    "cifar10_dataset_folder_path = 'cifar-10-batches-py'\n",
    "\n",
    "# Use Floyd's cifar-10 dataset if present\n",
    "floyd_cifar10_location = '/input/cifar-10/python.tar.gz'\n",
    "if isfile(floyd_cifar10_location):\n",
    "    tar_gz_path = floyd_cifar10_location\n",
    "else:\n",
    "    tar_gz_path = 'cifar-10-python.tar.gz'\n",
    "\n",
    "class DLProgress(tqdm):\n",
    "    last_block = 0\n",
    "\n",
    "    def hook(self, block_num=1, block_size=1, total_size=None):\n",
    "        self.total = total_size\n",
    "        self.update((block_num - self.last_block) * block_size)\n",
    "        self.last_block = block_num\n",
    "\n",
    "if not isfile(tar_gz_path):\n",
    "    with DLProgress(unit='B', unit_scale=True, miniters=1, desc='CIFAR-10 Dataset') as pbar:\n",
    "        urlretrieve(\n",
    "            'https://www.cs.toronto.edu/~kriz/cifar-10-python.tar.gz',\n",
    "            tar_gz_path,\n",
    "            pbar.hook)\n",
    "\n",
    "if not isdir(cifar10_dataset_folder_path):\n",
    "    with tarfile.open(tar_gz_path) as tar:\n",
    "        tar.extractall()\n",
    "        tar.close()\n",
    "\n",
    "\n",
    "tests.test_folder_path(cifar10_dataset_folder_path)"
   ]
  },
  {
   "cell_type": "markdown",
   "metadata": {},
   "source": [
    "## 探索数据\n",
    "\n",
    "该数据集分成了几部分／批次（batches），以免你的机器在计算时内存不足。CIFAR-10 数据集包含 5 个部分，名称分别为 `data_batch_1`、`data_batch_2`，以此类推。每个部分都包含以下某个类别的标签和图片：\n",
    "\n",
    "* 飞机\n",
    "* 汽车\n",
    "* 鸟类\n",
    "* 猫\n",
    "* 鹿\n",
    "* 狗\n",
    "* 青蛙\n",
    "* 马\n",
    "* 船只\n",
    "* 卡车\n",
    "\n",
    "了解数据集也是对数据进行预测的必经步骤。你可以通过更改 `batch_id` 和 `sample_id` 探索下面的代码单元。`batch_id` 是数据集一个部分的 ID（1 到 5）。`sample_id` 是该部分中图片和标签对（label pair）的 ID。\n",
    "\n",
    "问问你自己：“可能的标签有哪些？”、“图片数据的值范围是多少？”、“标签是按顺序排列，还是随机排列的？”。思考类似的问题，有助于你预处理数据，并使预测结果更准确。\n"
   ]
  },
  {
   "cell_type": "code",
   "execution_count": 2,
   "metadata": {
    "collapsed": false
   },
   "outputs": [
    {
     "name": "stdout",
     "output_type": "stream",
     "text": [
      "\n",
      "Stats of batch 1:\n",
      "Samples: 10000\n",
      "Label Counts: {0: 1005, 1: 974, 2: 1032, 3: 1016, 4: 999, 5: 937, 6: 1030, 7: 1001, 8: 1025, 9: 981}\n",
      "First 20 Labels: [6, 9, 9, 4, 1, 1, 2, 7, 8, 3, 4, 7, 7, 2, 9, 9, 9, 3, 2, 6]\n",
      "\n",
      "Example of Image 5:\n",
      "Image - Min Value: 0 Max Value: 252\n",
      "Image - Shape: (32, 32, 3)\n",
      "Label - Label Id: 1 Name: automobile\n"
     ]
    },
    {
     "data": {
      "image/png": "[encoded data removed]",
      "text/plain": [
       "<matplotlib.figure.Figure at 0x27657639278>"
      ]
     },
     "metadata": {
      "image/png": {
       "height": 250,
       "width": 253
      }
     },
     "output_type": "display_data"
    }
   ],
   "source": [
    "%matplotlib inline\n",
    "%config InlineBackend.figure_format = 'retina'\n",
    "\n",
    "import helper\n",
    "import numpy as np\n",
    "\n",
    "# Explore the dataset\n",
    "batch_id = 1\n",
    "sample_id = 5\n",
    "helper.display_stats(cifar10_dataset_folder_path, batch_id, sample_id)"
   ]
  },
  {
   "cell_type": "markdown",
   "metadata": {},
   "source": [
    "## 实现预处理函数\n",
    "\n",
    "### 标准化\n",
    "\n",
    "在下面的单元中，实现 `normalize` 函数，传入图片数据 `x`，并返回标准化 Numpy 数组。值应该在 0 到 1 的范围内（含 0 和 1）。返回对象应该和 `x` 的形状一样。\n"
   ]
  },
  {
   "cell_type": "code",
   "execution_count": 3,
   "metadata": {
    "collapsed": false
   },
   "outputs": [
    {
     "name": "stdout",
     "output_type": "stream",
     "text": [
      "Tests Passed\n"
     ]
    }
   ],
   "source": [
    "def normalize(x):\n",
    "    \"\"\"\n",
    "    Normalize a list of sample image data in the range of 0 to 1\n",
    "    : x: List of image data.  The image shape is (32, 32, 3)\n",
    "    : return: Numpy array of normalize data\n",
    "    \"\"\"\n",
    "    # TODO: Implement Function\n",
    "    max_value = np.max(x)\n",
    "    min_value = np.min(x)\n",
    "    \n",
    "    return (x - min_value) / (max_value - min_value)\n",
    "\n",
    "\n",
    "\"\"\"\n",
    "DON'T MODIFY ANYTHING IN THIS CELL THAT IS BELOW THIS LINE\n",
    "\"\"\"\n",
    "tests.test_normalize(normalize)"
   ]
  },
  {
   "cell_type": "markdown",
   "metadata": {},
   "source": [
    "### One-hot 编码\n",
    "\n",
    "和之前的代码单元一样，你将为预处理实现一个函数。这次，你将实现 `one_hot_encode` 函数。输入，也就是 `x`，是一个标签列表。实现该函数，以返回为 one_hot 编码的 Numpy 数组的标签列表。标签的可能值为 0 到 9。每次调用 `one_hot_encode` 时，对于每个值，one_hot 编码函数应该返回相同的编码。确保将编码映射保存到该函数外面。\n",
    "\n",
    "提示：不要重复发明轮子。\n"
   ]
  },
  {
   "cell_type": "code",
   "execution_count": 4,
   "metadata": {
    "collapsed": false
   },
   "outputs": [
    {
     "name": "stdout",
     "output_type": "stream",
     "text": [
      "Tests Passed\n"
     ]
    }
   ],
   "source": [
    "def one_hot_encode(x):\n",
    "    \"\"\"\n",
    "    One hot encode a list of sample labels. Return a one-hot encoded vector for each label.\n",
    "    : x: List of sample Labels\n",
    "    : return: Numpy array of one-hot encoded labels\n",
    "    \"\"\"\n",
    "    # TODO: Implement Function\n",
    "    #print(x)\n",
    "    #print(np.eye(10))\n",
    "    #print(np.eye(10)[x])\n",
    "    return np.eye(10)[x]\n",
    "\n",
    "\n",
    "\"\"\"\n",
    "DON'T MODIFY ANYTHING IN THIS CELL THAT IS BELOW THIS LINE\n",
    "\"\"\"\n",
    "tests.test_one_hot_encode(one_hot_encode)"
   ]
  },
  {
   "cell_type": "markdown",
   "metadata": {},
   "source": [
    "### 随机化数据\n",
    "\n",
    "之前探索数据时，你已经了解到，样本的顺序是随机的。再随机化一次也不会有什么关系，但是对于这个数据集没有必要。\n"
   ]
  },
  {
   "cell_type": "markdown",
   "metadata": {},
   "source": [
    "## 预处理所有数据并保存\n",
    "\n",
    "运行下方的代码单元，将预处理所有 CIFAR-10 数据，并保存到文件中。下面的代码还使用了 10% 的训练数据，用来验证。\n"
   ]
  },
  {
   "cell_type": "code",
   "execution_count": 5,
   "metadata": {
    "collapsed": false
   },
   "outputs": [],
   "source": [
    "\"\"\"\n",
    "DON'T MODIFY ANYTHING IN THIS CELL\n",
    "\"\"\"\n",
    "# Preprocess Training, Validation, and Testing Data\n",
    "helper.preprocess_and_save_data(cifar10_dataset_folder_path, normalize, one_hot_encode)"
   ]
  },
  {
   "cell_type": "markdown",
   "metadata": {},
   "source": [
    "# 检查点\n",
    "\n",
    "这是你的第一个检查点。如果你什么时候决定再回到该记事本，或需要重新启动该记事本，你可以从这里开始。预处理的数据已保存到本地。\n"
   ]
  },
  {
   "cell_type": "code",
   "execution_count": 6,
   "metadata": {
    "collapsed": true
   },
   "outputs": [],
   "source": [
    "\"\"\"\n",
    "DON'T MODIFY ANYTHING IN THIS CELL\n",
    "\"\"\"\n",
    "import pickle\n",
    "import problem_unittests as tests\n",
    "import helper\n",
    "\n",
    "# Load the Preprocessed Validation data\n",
    "valid_features, valid_labels = pickle.load(open('preprocess_validation.p', mode='rb'))"
   ]
  },
  {
   "cell_type": "markdown",
   "metadata": {},
   "source": [
    "## 构建网络\n",
    "\n",
    "对于该神经网络，你需要将每层都构建为一个函数。你看到的大部分代码都位于函数外面。要更全面地测试你的代码，我们需要你将每层放入一个函数中。这样使我们能够提供更好的反馈，并使用我们的统一测试检测简单的错误，然后再提交项目。\n",
    "\n",
    ">**注意**：如果你觉得每周很难抽出足够的时间学习这门课程，我们为此项目提供了一个小捷径。对于接下来的几个问题，你可以使用 [TensorFlow Layers](https://www.tensorflow.org/api_docs/python/tf/layers) 或 [TensorFlow Layers (contrib)](https://www.tensorflow.org/api_guides/python/contrib.layers) 程序包中的类来构建每个层级，但是“卷积和最大池化层级”部分的层级除外。TF Layers 和 Keras 及 TFLearn 层级类似，因此很容易学会。\n",
    "\n",
    ">但是，如果你想充分利用这门课程，请尝试自己解决所有问题，不使用 TF Layers 程序包中的任何类。你依然可以使用其他程序包中的类，这些类和你在 TF Layers 中的类名称是一样的！例如，你可以使用 TF Neural Network 版本的 `conv2d` 类 [tf.nn.conv2d](https://www.tensorflow.org/api_docs/python/tf/nn/conv2d)，而不是 TF Layers 版本的 `conv2d` 类 [tf.layers.conv2d](https://www.tensorflow.org/api_docs/python/tf/layers/conv2d)。\n",
    "\n",
    "我们开始吧！\n",
    "\n",
    "\n",
    "### 输入\n",
    "\n",
    "神经网络需要读取图片数据、one-hot 编码标签和丢弃保留概率（dropout keep probability）。请实现以下函数：\n",
    "\n",
    "* 实现 `neural_net_image_input`\n",
    " * 返回 [TF Placeholder](https://www.tensorflow.org/api_docs/python/tf/placeholder)\n",
    " * 使用 `image_shape` 设置形状，部分大小设为 `None`\n",
    " * 使用 [TF Placeholder](https://www.tensorflow.org/api_docs/python/tf/placeholder) 中的 TensorFlow `name` 参数对 TensorFlow 占位符 \"x\" 命名\n",
    "* 实现 `neural_net_label_input`\n",
    " * 返回 [TF Placeholder](https://www.tensorflow.org/api_docs/python/tf/placeholder)\n",
    " * 使用 `n_classes` 设置形状，部分大小设为 `None`\n",
    " * 使用 [TF Placeholder](https://www.tensorflow.org/api_docs/python/tf/placeholder) 中的 TensorFlow `name` 参数对 TensorFlow 占位符 \"y\" 命名\n",
    "* 实现 `neural_net_keep_prob_input`\n",
    " * 返回 [TF Placeholder](https://www.tensorflow.org/api_docs/python/tf/placeholder)，用于丢弃保留概率\n",
    " * 使用 [TF Placeholder](https://www.tensorflow.org/api_docs/python/tf/placeholder) 中的 TensorFlow `name` 参数对 TensorFlow 占位符 \"keep_prob\" 命名\n",
    "\n",
    "这些名称将在项目结束时，用于加载保存的模型。\n",
    "\n",
    "注意：TensorFlow 中的 `None` 表示形状可以是动态大小。"
   ]
  },
  {
   "cell_type": "code",
   "execution_count": 7,
   "metadata": {
    "collapsed": false
   },
   "outputs": [
    {
     "name": "stdout",
     "output_type": "stream",
     "text": [
      "Image Input Tests Passed.\n",
      "Label Input Tests Passed.\n",
      "Keep Prob Tests Passed.\n"
     ]
    }
   ],
   "source": [
    "import tensorflow as tf\n",
    "\n",
    "def neural_net_image_input(image_shape):\n",
    "    \"\"\"\n",
    "    Return a Tensor for a batch of image input\n",
    "    : image_shape: Shape of the images\n",
    "    : return: Tensor for image input.\n",
    "    \"\"\"\n",
    "    # TODO: Implement Function\n",
    "    #print(image_shape)\n",
    "    return tf.placeholder(tf.float32, shape=[None,image_shape[0],image_shape[1],image_shape[2]], name='x')\n",
    "\n",
    "\n",
    "def neural_net_label_input(n_classes):\n",
    "    \"\"\"\n",
    "    Return a Tensor for a batch of label input\n",
    "    : n_classes: Number of classes\n",
    "    : return: Tensor for label input.\n",
    "    \"\"\"\n",
    "    # TODO: Implement Function\n",
    "    #print(n_classes)\n",
    "    return tf.placeholder(tf.float32, shape=[None,n_classes], name='y')\n",
    "\n",
    "\n",
    "def neural_net_keep_prob_input():\n",
    "    \"\"\"\n",
    "    Return a Tensor for keep probability\n",
    "    : return: Tensor for keep probability.\n",
    "    \"\"\"\n",
    "    # TODO: Implement Function\n",
    "    return tf.placeholder(tf.float32, name='keep_prob')\n",
    "\n",
    "\n",
    "\"\"\"\n",
    "DON'T MODIFY ANYTHING IN THIS CELL THAT IS BELOW THIS LINE\n",
    "\"\"\"\n",
    "tf.reset_default_graph()\n",
    "tests.test_nn_image_inputs(neural_net_image_input)\n",
    "tests.test_nn_label_inputs(neural_net_label_input)\n",
    "tests.test_nn_keep_prob_inputs(neural_net_keep_prob_input)"
   ]
  },
  {
   "cell_type": "markdown",
   "metadata": {},
   "source": [
    "### 卷积和最大池化层\n",
    "\n",
    "卷积层级适合处理图片。对于此代码单元，你应该实现函数 `conv2d_maxpool` 以便应用卷积然后进行最大池化：\n",
    "\n",
    "* 使用 `conv_ksize`、`conv_num_outputs` 和 `x_tensor` 的形状创建权重（weight）和偏置（bias）。\n",
    "* 使用权重和 `conv_strides` 对 `x_tensor` 应用卷积。\n",
    " * 建议使用我们建议的间距（padding），当然也可以使用任何其他间距。\n",
    "* 添加偏置\n",
    "* 向卷积中添加非线性激活（nonlinear activation）\n",
    "* 使用 `pool_ksize` 和 `pool_strides` 应用最大池化\n",
    " * 建议使用我们建议的间距（padding），当然也可以使用任何其他间距。\n",
    "\n",
    "**注意**：对于**此层**，**请勿使用** [TensorFlow Layers](https://www.tensorflow.org/api_docs/python/tf/layers) 或 [TensorFlow Layers (contrib)](https://www.tensorflow.org/api_guides/python/contrib.layers)，但是仍然可以使用 TensorFlow 的 [Neural Network](https://www.tensorflow.org/api_docs/python/tf/nn) 包。对于所有**其他层**，你依然可以使用快捷方法。\n"
   ]
  },
  {
   "cell_type": "code",
   "execution_count": 8,
   "metadata": {
    "collapsed": false
   },
   "outputs": [
    {
     "name": "stdout",
     "output_type": "stream",
     "text": [
      "Tests Passed\n"
     ]
    }
   ],
   "source": [
    "def conv2d_maxpool(x_tensor, conv_num_outputs, conv_ksize, conv_strides, pool_ksize, pool_strides):\n",
    "    \"\"\"\n",
    "    Apply convolution then max pooling to x_tensor\n",
    "    :param x_tensor: TensorFlow Tensor\n",
    "    :param conv_num_outputs: Number of outputs for the convolutional layer\n",
    "    :param conv_strides: Stride 2-D Tuple for convolution\n",
    "    :param pool_ksize: kernal size 2-D Tuple for pool\n",
    "    :param pool_strides: Stride 2-D Tuple for pool\n",
    "    : return: A tensor that represents convolution and max pooling of x_tensor\n",
    "    \"\"\"\n",
    "    # TODO: Implement Function\n",
    "    input_depth=x_tensor.get_shape().as_list()[3]\n",
    "    conv_weights=tf.Variable(tf.random_normal([conv_ksize[0],conv_ksize[1],input_depth, conv_num_outputs],stddev=0.1))\n",
    "    conv_bias=tf.Variable(tf.random_normal([conv_num_outputs],mean=0.0,stddev=0.01))\n",
    "\n",
    "    #conv\n",
    "    conv = tf.nn.conv2d(\n",
    "        x_tensor, \n",
    "        conv_weights, \n",
    "        strides=[1,conv_strides[0],conv_strides[1],1], \n",
    "        padding='SAME')\n",
    "    #add bias\n",
    "    conv = tf.nn.bias_add(conv, conv_bias) \n",
    "    #activate func\n",
    "    conv=tf.nn.relu(conv)\n",
    "    \n",
    "    max_pool=tf.nn.max_pool(\n",
    "        conv,\n",
    "        ksize=[1,pool_ksize[0],pool_ksize[1],1],\n",
    "        strides=[1,pool_strides[0],pool_strides[1],1],\n",
    "        padding='SAME')  # 3) Max pooling\n",
    "    return max_pool \n",
    "\n",
    "\n",
    "\"\"\"\n",
    "DON'T MODIFY ANYTHING IN THIS CELL THAT IS BELOW THIS LINE\n",
    "\"\"\"\n",
    "tests.test_con_pool(conv2d_maxpool)"
   ]
  },
  {
   "cell_type": "markdown",
   "metadata": {},
   "source": [
    "### 扁平化层\n",
    "\n",
    "实现 `flatten` 函数，将 `x_tensor` 的维度从四维张量（4-D tensor）变成二维张量。输出应该是形状（*部分大小（Batch Size）*，*扁平化图片大小（Flattened Image Size）*）。快捷方法：对于此层，你可以使用 [TensorFlow Layers](https://www.tensorflow.org/api_docs/python/tf/layers) 或 [TensorFlow Layers (contrib)](https://www.tensorflow.org/api_guides/python/contrib.layers) 包中的类。如果你想要更大挑战，可以仅使用其他 TensorFlow 程序包。\n"
   ]
  },
  {
   "cell_type": "code",
   "execution_count": 9,
   "metadata": {
    "collapsed": false
   },
   "outputs": [
    {
     "name": "stdout",
     "output_type": "stream",
     "text": [
      "Tests Passed\n"
     ]
    }
   ],
   "source": [
    "def flatten(x_tensor):\n",
    "    \"\"\"\n",
    "    Flatten x_tensor to (Batch Size, Flattened Image Size)\n",
    "    : x_tensor: A tensor of size (Batch Size, ...), where ... are the image dimensions.\n",
    "    : return: A tensor of size (Batch Size, Flattened Image Size).\n",
    "    \"\"\"\n",
    "    # TODO: Implement Function\n",
    "    shape=x_tensor.get_shape().as_list()\n",
    "    flattened_size=np.prod(shape[1:4])\n",
    "    return tf.reshape(x_tensor,[-1, flattened_size])\n",
    "\n",
    "\n",
    "\"\"\"\n",
    "DON'T MODIFY ANYTHING IN THIS CELL THAT IS BELOW THIS LINE\n",
    "\"\"\"\n",
    "tests.test_flatten(flatten)"
   ]
  },
  {
   "cell_type": "markdown",
   "metadata": {},
   "source": [
    "### 全连接层\n",
    "\n",
    "实现 `fully_conn` 函数，以向 `x_tensor` 应用完全连接的层级，形状为（*部分大小（Batch Size）*，*num_outputs*）。快捷方法：对于此层，你可以使用 [TensorFlow Layers](https://www.tensorflow.org/api_docs/python/tf/layers) 或 [TensorFlow Layers (contrib)](https://www.tensorflow.org/api_guides/python/contrib.layers) 包中的类。如果你想要更大挑战，可以仅使用其他 TensorFlow 程序包。"
   ]
  },
  {
   "cell_type": "code",
   "execution_count": 10,
   "metadata": {
    "collapsed": false
   },
   "outputs": [
    {
     "name": "stdout",
     "output_type": "stream",
     "text": [
      "Tests Passed\n"
     ]
    }
   ],
   "source": [
    "def fully_conn(x_tensor, num_outputs):\n",
    "    \"\"\"\n",
    "    Apply a fully connected layer to x_tensor using weight and bias\n",
    "    : x_tensor: A 2-D tensor where the first dimension is batch size.\n",
    "    : num_outputs: The number of output that the new tensor should be.\n",
    "    : return: A 2-D tensor where the second dimension is num_outputs.\n",
    "    \"\"\"\n",
    "    # TODO: Implement Function\n",
    "    shape=x_tensor.get_shape().as_list() # 2dim\n",
    "    \n",
    "    ful_weights = {\n",
    "    'fc': tf.Variable(tf.random_normal([shape[1],num_outputs],stddev=0.1))}\n",
    "    \n",
    "    ful_bias = {\n",
    "    'fc': tf.Variable(tf.random_normal([num_outputs],mean=0.0,stddev=0.01))}\n",
    "    \n",
    "    ful=tf.nn.bias_add(tf.matmul(x_tensor,ful_weights['fc']), ful_bias['fc'])\n",
    "    ful=tf.nn.relu(ful)\n",
    "    return ful\n",
    "\n",
    "\n",
    "\"\"\"\n",
    "DON'T MODIFY ANYTHING IN THIS CELL THAT IS BELOW THIS LINE\n",
    "\"\"\"\n",
    "tests.test_fully_conn(fully_conn)"
   ]
  },
  {
   "cell_type": "markdown",
   "metadata": {},
   "source": [
    "### 输出层\n",
    "\n",
    "实现 `output` 函数，向 x_tensor 应用完全连接的层级，形状为（*部分大小（Batch Size）*，*num_outputs*）。快捷方法：对于此层，你可以使用 [TensorFlow Layers](https://www.tensorflow.org/api_docs/python/tf/layers) 或 [TensorFlow Layers (contrib)](https://www.tensorflow.org/api_guides/python/contrib.layers) 包中的类。如果你想要更大挑战，可以仅使用其他 TensorFlow 程序包。\n",
    "\n",
    "**注意**：该层级不应应用 Activation、softmax 或交叉熵（cross entropy）。"
   ]
  },
  {
   "cell_type": "code",
   "execution_count": 11,
   "metadata": {
    "collapsed": false
   },
   "outputs": [
    {
     "name": "stdout",
     "output_type": "stream",
     "text": [
      "Tests Passed\n"
     ]
    }
   ],
   "source": [
    "def output(x_tensor, num_outputs):\n",
    "    \"\"\"\n",
    "    Apply a output layer to x_tensor using weight and bias\n",
    "    : x_tensor: A 2-D tensor where the first dimension is batch size.\n",
    "    : num_outputs: The number of output that the new tensor should be.\n",
    "    : return: A 2-D tensor where the second dimension is num_outputs.\n",
    "    \"\"\"\n",
    "    # TODO: Implement Function\n",
    "    shape=x_tensor.get_shape().as_list() # 2dim\n",
    "    \n",
    "    out_weights = {\n",
    "    'out': tf.Variable(tf.random_normal([shape[1],num_outputs]))}\n",
    "    \n",
    "    out_bias = {\n",
    "    'out': tf.Variable(tf.random_normal([num_outputs]))}\n",
    "    \n",
    "    out=tf.nn.bias_add(tf.matmul(x_tensor,out_weights['out']), out_bias['out'])\n",
    "    return out\n",
    "\n",
    "\n",
    "\"\"\"\n",
    "DON'T MODIFY ANYTHING IN THIS CELL THAT IS BELOW THIS LINE\n",
    "\"\"\"\n",
    "tests.test_output(output)"
   ]
  },
  {
   "cell_type": "markdown",
   "metadata": {},
   "source": [
    "### 创建卷积模型\n",
    "\n",
    "实现函数 `conv_net`， 创建卷积神经网络模型。该函数传入一批图片 `x`，并输出对数（logits）。使用你在上方创建的层创建此模型：\n",
    "\n",
    "* 应用 1、2 或 3 个卷积和最大池化层（Convolution and Max Pool layers）\n",
    "* 应用一个扁平层（Flatten Layer）\n",
    "* 应用 1、2 或 3 个完全连接层（Fully Connected Layers）\n",
    "* 应用一个输出层（Output Layer）\n",
    "* 返回输出\n",
    "* 使用 `keep_prob` 向模型中的一个或多个层应用 [TensorFlow 的 Dropout](https://www.tensorflow.org/api_docs/python/tf/nn/dropout)"
   ]
  },
  {
   "cell_type": "code",
   "execution_count": 12,
   "metadata": {
    "collapsed": false
   },
   "outputs": [
    {
     "name": "stdout",
     "output_type": "stream",
     "text": [
      "Neural Network Built!\n"
     ]
    }
   ],
   "source": [
    "def conv_net(x, keep_prob):\n",
    "    \"\"\"\n",
    "    Create a convolutional neural network model\n",
    "    : x: Placeholder tensor that holds image data.\n",
    "    : keep_prob: Placeholder tensor that hold dropout keep probability.\n",
    "    : return: Tensor that represents logits\n",
    "    \"\"\"\n",
    "    # TODO: Apply 1, 2, or 3 Convolution and Max Pool layers\n",
    "    #    Play around with different number of outputs, kernel size and stride\n",
    "    # Function Definition from Above:\n",
    "    #    conv2d_maxpool(x_tensor, conv_num_outputs, conv_ksize, conv_strides, pool_ksize, pool_strides)\n",
    "    conv_num_outputs=9\n",
    "    conv_ksize=[3,3]\n",
    "    conv_strides=[1,1]\n",
    "    pool_ksize=[2,2]\n",
    "    pool_strides=[2,2]\n",
    "    \n",
    "    conv1=conv2d_maxpool(x,conv_num_outputs,conv_ksize,conv_strides,pool_ksize,pool_strides)\n",
    "    conv2=conv2d_maxpool(conv1,conv_num_outputs*2,conv_ksize,conv_strides,pool_ksize,pool_strides)\n",
    "    conv2=tf.nn.dropout(conv2,keep_prob=keep_prob)\n",
    "    \n",
    "    # TODO: Apply a Flatten Layer\n",
    "    # Function Definition from Above:\n",
    "    #   flatten(x_tensor)\n",
    "    flat=flatten(conv2)\n",
    "\n",
    "    # TODO: Apply 1, 2, or 3 Fully Connected Layers\n",
    "    #    Play around with different number of outputs\n",
    "    # Function Definition from Above:\n",
    "    #   fully_conn(x_tensor, num_outputs)\n",
    "    num_outputs=60\n",
    "    ful_1=fully_conn(flat,num_outputs)\n",
    "    ful_1=tf.nn.dropout(ful_1,keep_prob=keep_prob)\n",
    "    ful_2=fully_conn(ful_1,num_outputs//2)\n",
    "    ful_2=tf.nn.dropout(ful_2,keep_prob=keep_prob)\n",
    "    \n",
    "    # TODO: Apply an Output Layer\n",
    "    #    Set this to the number of classes\n",
    "    # Function Definition from Above:\n",
    "    #   output(x_tensor, num_outputs)\n",
    "    \n",
    "    out=output(ful_2, 10)\n",
    "    \n",
    "    # TODO: return output\n",
    "    return out\n",
    "\n",
    "\n",
    "\"\"\"\n",
    "DON'T MODIFY ANYTHING IN THIS CELL THAT IS BELOW THIS LINE\n",
    "\"\"\"\n",
    "\n",
    "##############################\n",
    "## Build the Neural Network ##\n",
    "##############################\n",
    "\n",
    "# Remove previous weights, bias, inputs, etc..\n",
    "tf.reset_default_graph()\n",
    "\n",
    "# Inputs\n",
    "x = neural_net_image_input((32, 32, 3))\n",
    "y = neural_net_label_input(10)\n",
    "keep_prob = neural_net_keep_prob_input()\n",
    "\n",
    "# Model\n",
    "logits = conv_net(x, keep_prob)\n",
    "\n",
    "# Name logits Tensor, so that is can be loaded from disk after training\n",
    "logits = tf.identity(logits, name='logits')\n",
    "\n",
    "# Loss and Optimizer\n",
    "cost = tf.reduce_mean(tf.nn.softmax_cross_entropy_with_logits(logits=logits, labels=y))\n",
    "optimizer = tf.train.AdamOptimizer().minimize(cost)\n",
    "\n",
    "# Accuracy\n",
    "correct_pred = tf.equal(tf.argmax(logits, 1), tf.argmax(y, 1))\n",
    "accuracy = tf.reduce_mean(tf.cast(correct_pred, tf.float32), name='accuracy')\n",
    "\n",
    "tests.test_conv_net(conv_net)"
   ]
  },
  {
   "cell_type": "markdown",
   "metadata": {},
   "source": [
    "## 训练神经网络\n",
    "\n",
    "### 单次优化\n",
    "\n",
    "实现函数 `train_neural_network` 以进行单次优化（single optimization）。该优化应该使用 `optimizer` 优化 `session`，其中 `feed_dict` 具有以下参数：\n",
    "\n",
    "* `x` 表示图片输入\n",
    "* `y` 表示标签\n",
    "* `keep_prob` 表示丢弃的保留率\n",
    "\n",
    "每个部分都会调用该函数，所以 `tf.global_variables_initializer()` 已经被调用。\n",
    "\n",
    "注意：不需要返回任何内容。该函数只是用来优化神经网络。\n"
   ]
  },
  {
   "cell_type": "code",
   "execution_count": 13,
   "metadata": {
    "collapsed": false
   },
   "outputs": [
    {
     "name": "stdout",
     "output_type": "stream",
     "text": [
      "Tests Passed\n"
     ]
    }
   ],
   "source": [
    "def train_neural_network(session, optimizer, keep_probability, feature_batch, label_batch):\n",
    "    \"\"\"\n",
    "    Optimize the session on a batch of images and labels\n",
    "    : session: Current TensorFlow session\n",
    "    : optimizer: TensorFlow optimizer function\n",
    "    : keep_probability: keep probability\n",
    "    : feature_batch: Batch of Numpy image data\n",
    "    : label_batch: Batch of Numpy label data\n",
    "    \"\"\"\n",
    "    # TODO: Implement Function\n",
    "    session.run(optimizer,feed_dict={keep_prob:keep_probability,x:feature_batch,y:label_batch})\n",
    "  \n",
    "\n",
    "\n",
    "\"\"\"\n",
    "DON'T MODIFY ANYTHING IN THIS CELL THAT IS BELOW THIS LINE\n",
    "\"\"\"\n",
    "tests.test_train_nn(train_neural_network)"
   ]
  },
  {
   "cell_type": "markdown",
   "metadata": {},
   "source": [
    "### 显示数据\n",
    "\n",
    "实现函数 `print_stats` 以输出损失和验证准确率。使用全局变量 `valid_features` 和 `valid_labels` 计算验证准确率。使用保留率 `1.0` 计算损失和验证准确率（loss and validation accuracy）。\n"
   ]
  },
  {
   "cell_type": "code",
   "execution_count": 14,
   "metadata": {
    "collapsed": false
   },
   "outputs": [],
   "source": [
    "def print_stats(session, feature_batch, label_batch, cost, accuracy):\n",
    "    \"\"\"\n",
    "    Print information about loss and validation accuracy\n",
    "    : session: Current TensorFlow session\n",
    "    : feature_batch: Batch of Numpy image data\n",
    "    : label_batch: Batch of Numpy label data\n",
    "    : cost: TensorFlow cost function\n",
    "    : accuracy: TensorFlow accuracy function\n",
    "    \"\"\"    \n",
    "    loss = session.run(cost,feed_dict={keep_prob:1.,x:feature_batch,y:label_batch})\n",
    "    global valid_features,valid_labels\n",
    "    valid_acc = session.run(accuracy,feed_dict={keep_prob:1.,x:valid_features,y:valid_labels})\n",
    "    print('Loss: {:>10.4f} Validation Accuracy: {:.6f}'.format(\n",
    "                loss,\n",
    "                valid_acc))\n",
    "    \n"
   ]
  },
  {
   "cell_type": "markdown",
   "metadata": {},
   "source": [
    "### 超参数\n",
    "\n",
    "调试以下超参数：\n",
    "* 设置 `epochs` 表示神经网络停止学习或开始过拟合的迭代次数\n",
    "* 设置 `batch_size`，表示机器内存允许的部分最大体积。大部分人设为以下常见内存大小：\n",
    "\n",
    " * 64\n",
    " * 128\n",
    " * 256\n",
    " * ...\n",
    "* 设置 `keep_probability` 表示使用丢弃时保留节点的概率"
   ]
  },
  {
   "cell_type": "code",
   "execution_count": 15,
   "metadata": {
    "collapsed": true
   },
   "outputs": [],
   "source": [
    "# TODO: Tune Parameters\n",
    "epochs = 50\n",
    "batch_size = 256\n",
    "keep_probability = 0.5"
   ]
  },
  {
   "cell_type": "markdown",
   "metadata": {},
   "source": [
    "### 在单个 CIFAR-10 部分上训练\n",
    "\n",
    "我们先用单个部分，而不是用所有的 CIFAR-10 批次训练神经网络。这样可以节省时间，并对模型进行迭代，以提高准确率。最终验证准确率达到 50% 或以上之后，在下一部分对所有数据运行模型。\n"
   ]
  },
  {
   "cell_type": "code",
   "execution_count": 16,
   "metadata": {
    "collapsed": false
   },
   "outputs": [
    {
     "name": "stdout",
     "output_type": "stream",
     "text": [
      "Checking the Training on a Single Batch...\n",
      "Epoch  1, CIFAR-10 Batch 1:  Loss:     2.3483 Validation Accuracy: 0.107600\n",
      "Epoch  2, CIFAR-10 Batch 1:  Loss:     2.3055 Validation Accuracy: 0.120400\n",
      "Epoch  3, CIFAR-10 Batch 1:  Loss:     2.2535 Validation Accuracy: 0.169400\n",
      "Epoch  4, CIFAR-10 Batch 1:  Loss:     2.2166 Validation Accuracy: 0.218600\n",
      "Epoch  5, CIFAR-10 Batch 1:  Loss:     2.2055 Validation Accuracy: 0.229600\n",
      "Epoch  6, CIFAR-10 Batch 1:  Loss:     2.1504 Validation Accuracy: 0.250800\n",
      "Epoch  7, CIFAR-10 Batch 1:  Loss:     2.1159 Validation Accuracy: 0.244200\n",
      "Epoch  8, CIFAR-10 Batch 1:  Loss:     2.0879 Validation Accuracy: 0.249200\n",
      "Epoch  9, CIFAR-10 Batch 1:  Loss:     2.0447 Validation Accuracy: 0.262000\n",
      "Epoch 10, CIFAR-10 Batch 1:  Loss:     2.0084 Validation Accuracy: 0.266600\n",
      "Epoch 11, CIFAR-10 Batch 1:  Loss:     1.9456 Validation Accuracy: 0.317800\n",
      "Epoch 12, CIFAR-10 Batch 1:  Loss:     1.9431 Validation Accuracy: 0.307200\n",
      "Epoch 13, CIFAR-10 Batch 1:  Loss:     1.9018 Validation Accuracy: 0.314000\n",
      "Epoch 14, CIFAR-10 Batch 1:  Loss:     1.8558 Validation Accuracy: 0.341600\n",
      "Epoch 15, CIFAR-10 Batch 1:  Loss:     1.8396 Validation Accuracy: 0.360200\n",
      "Epoch 16, CIFAR-10 Batch 1:  Loss:     1.7873 Validation Accuracy: 0.385200\n",
      "Epoch 17, CIFAR-10 Batch 1:  Loss:     1.7742 Validation Accuracy: 0.377200\n",
      "Epoch 18, CIFAR-10 Batch 1:  Loss:     1.7591 Validation Accuracy: 0.391000\n",
      "Epoch 19, CIFAR-10 Batch 1:  Loss:     1.7024 Validation Accuracy: 0.403000\n",
      "Epoch 20, CIFAR-10 Batch 1:  Loss:     1.6629 Validation Accuracy: 0.401800\n",
      "Epoch 21, CIFAR-10 Batch 1:  Loss:     1.6326 Validation Accuracy: 0.415600\n",
      "Epoch 22, CIFAR-10 Batch 1:  Loss:     1.6126 Validation Accuracy: 0.428800\n",
      "Epoch 23, CIFAR-10 Batch 1:  Loss:     1.5453 Validation Accuracy: 0.434600\n",
      "Epoch 24, CIFAR-10 Batch 1:  Loss:     1.5630 Validation Accuracy: 0.431600\n",
      "Epoch 25, CIFAR-10 Batch 1:  Loss:     1.5353 Validation Accuracy: 0.434200\n",
      "Epoch 26, CIFAR-10 Batch 1:  Loss:     1.4647 Validation Accuracy: 0.442600\n",
      "Epoch 27, CIFAR-10 Batch 1:  Loss:     1.4481 Validation Accuracy: 0.441800\n",
      "Epoch 28, CIFAR-10 Batch 1:  Loss:     1.3937 Validation Accuracy: 0.445800\n",
      "Epoch 29, CIFAR-10 Batch 1:  Loss:     1.3604 Validation Accuracy: 0.459200\n",
      "Epoch 30, CIFAR-10 Batch 1:  Loss:     1.3393 Validation Accuracy: 0.460000\n",
      "Epoch 31, CIFAR-10 Batch 1:  Loss:     1.3376 Validation Accuracy: 0.461600\n",
      "Epoch 32, CIFAR-10 Batch 1:  Loss:     1.3072 Validation Accuracy: 0.470200\n",
      "Epoch 33, CIFAR-10 Batch 1:  Loss:     1.2664 Validation Accuracy: 0.478600\n",
      "Epoch 34, CIFAR-10 Batch 1:  Loss:     1.2568 Validation Accuracy: 0.463400\n",
      "Epoch 35, CIFAR-10 Batch 1:  Loss:     1.2246 Validation Accuracy: 0.478200\n",
      "Epoch 36, CIFAR-10 Batch 1:  Loss:     1.2022 Validation Accuracy: 0.476000\n",
      "Epoch 37, CIFAR-10 Batch 1:  Loss:     1.2163 Validation Accuracy: 0.472600\n",
      "Epoch 38, CIFAR-10 Batch 1:  Loss:     1.1464 Validation Accuracy: 0.495600\n",
      "Epoch 39, CIFAR-10 Batch 1:  Loss:     1.1425 Validation Accuracy: 0.485800\n",
      "Epoch 40, CIFAR-10 Batch 1:  Loss:     1.1445 Validation Accuracy: 0.493200\n",
      "Epoch 41, CIFAR-10 Batch 1:  Loss:     1.1379 Validation Accuracy: 0.496000\n",
      "Epoch 42, CIFAR-10 Batch 1:  Loss:     1.0950 Validation Accuracy: 0.499800\n",
      "Epoch 43, CIFAR-10 Batch 1:  Loss:     1.0909 Validation Accuracy: 0.503400\n",
      "Epoch 44, CIFAR-10 Batch 1:  Loss:     1.0845 Validation Accuracy: 0.503200\n",
      "Epoch 45, CIFAR-10 Batch 1:  Loss:     1.0380 Validation Accuracy: 0.507000\n",
      "Epoch 46, CIFAR-10 Batch 1:  Loss:     1.0196 Validation Accuracy: 0.496600\n",
      "Epoch 47, CIFAR-10 Batch 1:  Loss:     1.0211 Validation Accuracy: 0.510600\n",
      "Epoch 48, CIFAR-10 Batch 1:  Loss:     1.0158 Validation Accuracy: 0.500000\n",
      "Epoch 49, CIFAR-10 Batch 1:  Loss:     0.9829 Validation Accuracy: 0.508000\n",
      "Epoch 50, CIFAR-10 Batch 1:  Loss:     0.9941 Validation Accuracy: 0.498400\n"
     ]
    }
   ],
   "source": [
    "\"\"\"\n",
    "DON'T MODIFY ANYTHING IN THIS CELL\n",
    "\"\"\"\n",
    "print('Checking the Training on a Single Batch...')\n",
    "with tf.Session() as sess:\n",
    "    # Initializing the variables\n",
    "    sess.run(tf.global_variables_initializer())\n",
    "    \n",
    "    # Training cycle\n",
    "    for epoch in range(epochs):\n",
    "        batch_i = 1\n",
    "        for batch_features, batch_labels in helper.load_preprocess_training_batch(batch_i, batch_size):\n",
    "            train_neural_network(sess, optimizer, keep_probability, batch_features, batch_labels)\n",
    "        print('Epoch {:>2}, CIFAR-10 Batch {}:  '.format(epoch + 1, batch_i), end='')\n",
    "        print_stats(sess, batch_features, batch_labels, cost, accuracy)"
   ]
  },
  {
   "cell_type": "markdown",
   "metadata": {},
   "source": [
    "### 完全训练模型\n",
    "\n",
    "现在，单个 CIFAR-10 部分的准确率已经不错了，试试所有五个部分吧。"
   ]
  },
  {
   "cell_type": "code",
   "execution_count": 17,
   "metadata": {
    "collapsed": false
   },
   "outputs": [
    {
     "name": "stdout",
     "output_type": "stream",
     "text": [
      "Training...\n",
      "Epoch  1, CIFAR-10 Batch 1:  Loss:     2.4478 Validation Accuracy: 0.103000\n",
      "Epoch  1, CIFAR-10 Batch 2:  Loss:     2.2742 Validation Accuracy: 0.109200\n",
      "Epoch  1, CIFAR-10 Batch 3:  Loss:     2.1808 Validation Accuracy: 0.154600\n",
      "Epoch  1, CIFAR-10 Batch 4:  Loss:     2.2467 Validation Accuracy: 0.211800\n",
      "Epoch  1, CIFAR-10 Batch 5:  Loss:     2.1259 Validation Accuracy: 0.217800\n",
      "Epoch  2, CIFAR-10 Batch 1:  Loss:     2.1614 Validation Accuracy: 0.240400\n",
      "Epoch  2, CIFAR-10 Batch 2:  Loss:     2.0854 Validation Accuracy: 0.262400\n",
      "Epoch  2, CIFAR-10 Batch 3:  Loss:     1.9085 Validation Accuracy: 0.292000\n",
      "Epoch  2, CIFAR-10 Batch 4:  Loss:     1.9306 Validation Accuracy: 0.314000\n",
      "Epoch  2, CIFAR-10 Batch 5:  Loss:     1.8756 Validation Accuracy: 0.310800\n",
      "Epoch  3, CIFAR-10 Batch 1:  Loss:     1.9388 Validation Accuracy: 0.347600\n",
      "Epoch  3, CIFAR-10 Batch 2:  Loss:     1.8518 Validation Accuracy: 0.332600\n",
      "Epoch  3, CIFAR-10 Batch 3:  Loss:     1.6918 Validation Accuracy: 0.366800\n",
      "Epoch  3, CIFAR-10 Batch 4:  Loss:     1.7306 Validation Accuracy: 0.369400\n",
      "Epoch  3, CIFAR-10 Batch 5:  Loss:     1.7723 Validation Accuracy: 0.374800\n",
      "Epoch  4, CIFAR-10 Batch 1:  Loss:     1.8747 Validation Accuracy: 0.379800\n",
      "Epoch  4, CIFAR-10 Batch 2:  Loss:     1.7205 Validation Accuracy: 0.396200\n",
      "Epoch  4, CIFAR-10 Batch 3:  Loss:     1.5516 Validation Accuracy: 0.400000\n",
      "Epoch  4, CIFAR-10 Batch 4:  Loss:     1.6172 Validation Accuracy: 0.394800\n",
      "Epoch  4, CIFAR-10 Batch 5:  Loss:     1.6853 Validation Accuracy: 0.414800\n",
      "Epoch  5, CIFAR-10 Batch 1:  Loss:     1.7568 Validation Accuracy: 0.412200\n",
      "Epoch  5, CIFAR-10 Batch 2:  Loss:     1.6078 Validation Accuracy: 0.439800\n",
      "Epoch  5, CIFAR-10 Batch 3:  Loss:     1.4248 Validation Accuracy: 0.425000\n",
      "Epoch  5, CIFAR-10 Batch 4:  Loss:     1.5395 Validation Accuracy: 0.438800\n",
      "Epoch  5, CIFAR-10 Batch 5:  Loss:     1.6233 Validation Accuracy: 0.438200\n",
      "Epoch  6, CIFAR-10 Batch 1:  Loss:     1.7182 Validation Accuracy: 0.429400\n",
      "Epoch  6, CIFAR-10 Batch 2:  Loss:     1.5544 Validation Accuracy: 0.453400\n",
      "Epoch  6, CIFAR-10 Batch 3:  Loss:     1.3442 Validation Accuracy: 0.447000\n",
      "Epoch  6, CIFAR-10 Batch 4:  Loss:     1.5058 Validation Accuracy: 0.455400\n",
      "Epoch  6, CIFAR-10 Batch 5:  Loss:     1.5984 Validation Accuracy: 0.460200\n",
      "Epoch  7, CIFAR-10 Batch 1:  Loss:     1.6790 Validation Accuracy: 0.461200\n",
      "Epoch  7, CIFAR-10 Batch 2:  Loss:     1.5079 Validation Accuracy: 0.477600\n",
      "Epoch  7, CIFAR-10 Batch 3:  Loss:     1.3281 Validation Accuracy: 0.471000\n",
      "Epoch  7, CIFAR-10 Batch 4:  Loss:     1.4574 Validation Accuracy: 0.478800\n",
      "Epoch  7, CIFAR-10 Batch 5:  Loss:     1.4808 Validation Accuracy: 0.479000\n",
      "Epoch  8, CIFAR-10 Batch 1:  Loss:     1.6194 Validation Accuracy: 0.480200\n",
      "Epoch  8, CIFAR-10 Batch 2:  Loss:     1.4472 Validation Accuracy: 0.475400\n",
      "Epoch  8, CIFAR-10 Batch 3:  Loss:     1.2664 Validation Accuracy: 0.482800\n",
      "Epoch  8, CIFAR-10 Batch 4:  Loss:     1.4013 Validation Accuracy: 0.485600\n",
      "Epoch  8, CIFAR-10 Batch 5:  Loss:     1.4591 Validation Accuracy: 0.498600\n",
      "Epoch  9, CIFAR-10 Batch 1:  Loss:     1.5522 Validation Accuracy: 0.482000\n",
      "Epoch  9, CIFAR-10 Batch 2:  Loss:     1.3878 Validation Accuracy: 0.499600\n",
      "Epoch  9, CIFAR-10 Batch 3:  Loss:     1.1873 Validation Accuracy: 0.503000\n",
      "Epoch  9, CIFAR-10 Batch 4:  Loss:     1.4010 Validation Accuracy: 0.499000\n",
      "Epoch  9, CIFAR-10 Batch 5:  Loss:     1.4140 Validation Accuracy: 0.506600\n",
      "Epoch 10, CIFAR-10 Batch 1:  Loss:     1.4549 Validation Accuracy: 0.504800\n",
      "Epoch 10, CIFAR-10 Batch 2:  Loss:     1.3386 Validation Accuracy: 0.514000\n",
      "Epoch 10, CIFAR-10 Batch 3:  Loss:     1.1673 Validation Accuracy: 0.508200\n",
      "Epoch 10, CIFAR-10 Batch 4:  Loss:     1.3342 Validation Accuracy: 0.510800\n",
      "Epoch 10, CIFAR-10 Batch 5:  Loss:     1.3919 Validation Accuracy: 0.516400\n",
      "Epoch 11, CIFAR-10 Batch 1:  Loss:     1.4065 Validation Accuracy: 0.511000\n",
      "Epoch 11, CIFAR-10 Batch 2:  Loss:     1.3106 Validation Accuracy: 0.517000\n",
      "Epoch 11, CIFAR-10 Batch 3:  Loss:     1.1418 Validation Accuracy: 0.516600\n",
      "Epoch 11, CIFAR-10 Batch 4:  Loss:     1.3028 Validation Accuracy: 0.526200\n",
      "Epoch 11, CIFAR-10 Batch 5:  Loss:     1.3270 Validation Accuracy: 0.524600\n",
      "Epoch 12, CIFAR-10 Batch 1:  Loss:     1.3734 Validation Accuracy: 0.516600\n",
      "Epoch 12, CIFAR-10 Batch 2:  Loss:     1.2889 Validation Accuracy: 0.529400\n",
      "Epoch 12, CIFAR-10 Batch 3:  Loss:     1.0719 Validation Accuracy: 0.540200\n",
      "Epoch 12, CIFAR-10 Batch 4:  Loss:     1.2717 Validation Accuracy: 0.531600\n",
      "Epoch 12, CIFAR-10 Batch 5:  Loss:     1.3215 Validation Accuracy: 0.535600\n",
      "Epoch 13, CIFAR-10 Batch 1:  Loss:     1.3290 Validation Accuracy: 0.533800\n",
      "Epoch 13, CIFAR-10 Batch 2:  Loss:     1.2176 Validation Accuracy: 0.530400\n",
      "Epoch 13, CIFAR-10 Batch 3:  Loss:     1.0694 Validation Accuracy: 0.524600\n",
      "Epoch 13, CIFAR-10 Batch 4:  Loss:     1.2089 Validation Accuracy: 0.525200\n",
      "Epoch 13, CIFAR-10 Batch 5:  Loss:     1.2821 Validation Accuracy: 0.536000\n",
      "Epoch 14, CIFAR-10 Batch 1:  Loss:     1.2868 Validation Accuracy: 0.540800\n",
      "Epoch 14, CIFAR-10 Batch 2:  Loss:     1.2197 Validation Accuracy: 0.544800\n",
      "Epoch 14, CIFAR-10 Batch 3:  Loss:     1.0581 Validation Accuracy: 0.540400\n",
      "Epoch 14, CIFAR-10 Batch 4:  Loss:     1.1631 Validation Accuracy: 0.549000\n",
      "Epoch 14, CIFAR-10 Batch 5:  Loss:     1.2394 Validation Accuracy: 0.536400\n",
      "Epoch 15, CIFAR-10 Batch 1:  Loss:     1.2792 Validation Accuracy: 0.526000\n",
      "Epoch 15, CIFAR-10 Batch 2:  Loss:     1.2078 Validation Accuracy: 0.543600\n",
      "Epoch 15, CIFAR-10 Batch 3:  Loss:     1.0159 Validation Accuracy: 0.540600\n",
      "Epoch 15, CIFAR-10 Batch 4:  Loss:     1.1489 Validation Accuracy: 0.551600\n",
      "Epoch 15, CIFAR-10 Batch 5:  Loss:     1.2218 Validation Accuracy: 0.547600\n",
      "Epoch 16, CIFAR-10 Batch 1:  Loss:     1.2152 Validation Accuracy: 0.553400\n",
      "Epoch 16, CIFAR-10 Batch 2:  Loss:     1.1718 Validation Accuracy: 0.547200\n",
      "Epoch 16, CIFAR-10 Batch 3:  Loss:     0.9900 Validation Accuracy: 0.544400\n",
      "Epoch 16, CIFAR-10 Batch 4:  Loss:     1.1480 Validation Accuracy: 0.554000\n",
      "Epoch 16, CIFAR-10 Batch 5:  Loss:     1.1606 Validation Accuracy: 0.551200\n",
      "Epoch 17, CIFAR-10 Batch 1:  Loss:     1.2152 Validation Accuracy: 0.542800\n",
      "Epoch 17, CIFAR-10 Batch 2:  Loss:     1.1936 Validation Accuracy: 0.553400\n",
      "Epoch 17, CIFAR-10 Batch 3:  Loss:     1.0019 Validation Accuracy: 0.550800\n",
      "Epoch 17, CIFAR-10 Batch 4:  Loss:     1.1140 Validation Accuracy: 0.559000\n",
      "Epoch 17, CIFAR-10 Batch 5:  Loss:     1.2017 Validation Accuracy: 0.554200\n",
      "Epoch 18, CIFAR-10 Batch 1:  Loss:     1.2084 Validation Accuracy: 0.557200\n",
      "Epoch 18, CIFAR-10 Batch 2:  Loss:     1.1129 Validation Accuracy: 0.561800\n",
      "Epoch 18, CIFAR-10 Batch 3:  Loss:     0.9807 Validation Accuracy: 0.558800\n",
      "Epoch 18, CIFAR-10 Batch 4:  Loss:     1.0972 Validation Accuracy: 0.562600\n",
      "Epoch 18, CIFAR-10 Batch 5:  Loss:     1.1744 Validation Accuracy: 0.562400\n",
      "Epoch 19, CIFAR-10 Batch 1:  Loss:     1.1867 Validation Accuracy: 0.557600\n",
      "Epoch 19, CIFAR-10 Batch 2:  Loss:     1.1509 Validation Accuracy: 0.570600\n",
      "Epoch 19, CIFAR-10 Batch 3:  Loss:     0.9555 Validation Accuracy: 0.565400\n",
      "Epoch 19, CIFAR-10 Batch 4:  Loss:     1.1246 Validation Accuracy: 0.562400\n",
      "Epoch 19, CIFAR-10 Batch 5:  Loss:     1.1603 Validation Accuracy: 0.572600\n",
      "Epoch 20, CIFAR-10 Batch 1:  Loss:     1.1179 Validation Accuracy: 0.562400\n",
      "Epoch 20, CIFAR-10 Batch 2:  Loss:     1.1073 Validation Accuracy: 0.565200\n",
      "Epoch 20, CIFAR-10 Batch 3:  Loss:     0.9522 Validation Accuracy: 0.565800\n",
      "Epoch 20, CIFAR-10 Batch 4:  Loss:     1.0852 Validation Accuracy: 0.573800\n",
      "Epoch 20, CIFAR-10 Batch 5:  Loss:     1.1835 Validation Accuracy: 0.572000\n",
      "Epoch 21, CIFAR-10 Batch 1:  Loss:     1.1218 Validation Accuracy: 0.565600\n",
      "Epoch 21, CIFAR-10 Batch 2:  Loss:     1.0979 Validation Accuracy: 0.567400\n",
      "Epoch 21, CIFAR-10 Batch 3:  Loss:     0.8839 Validation Accuracy: 0.566200\n",
      "Epoch 21, CIFAR-10 Batch 4:  Loss:     1.0426 Validation Accuracy: 0.577000\n",
      "Epoch 21, CIFAR-10 Batch 5:  Loss:     1.1506 Validation Accuracy: 0.554800\n",
      "Epoch 22, CIFAR-10 Batch 1:  Loss:     1.1163 Validation Accuracy: 0.576400\n",
      "Epoch 22, CIFAR-10 Batch 2:  Loss:     1.0522 Validation Accuracy: 0.568000\n",
      "Epoch 22, CIFAR-10 Batch 3:  Loss:     0.8825 Validation Accuracy: 0.575000\n",
      "Epoch 22, CIFAR-10 Batch 4:  Loss:     1.0214 Validation Accuracy: 0.571400\n",
      "Epoch 22, CIFAR-10 Batch 5:  Loss:     1.1232 Validation Accuracy: 0.570800\n",
      "Epoch 23, CIFAR-10 Batch 1:  Loss:     1.0821 Validation Accuracy: 0.574800\n",
      "Epoch 23, CIFAR-10 Batch 2:  Loss:     1.0186 Validation Accuracy: 0.566800\n",
      "Epoch 23, CIFAR-10 Batch 3:  Loss:     0.8467 Validation Accuracy: 0.571600\n",
      "Epoch 23, CIFAR-10 Batch 4:  Loss:     1.0860 Validation Accuracy: 0.570000\n",
      "Epoch 23, CIFAR-10 Batch 5:  Loss:     1.0943 Validation Accuracy: 0.580200\n",
      "Epoch 24, CIFAR-10 Batch 1:  Loss:     1.0648 Validation Accuracy: 0.582800\n",
      "Epoch 24, CIFAR-10 Batch 2:  Loss:     0.9827 Validation Accuracy: 0.571000\n",
      "Epoch 24, CIFAR-10 Batch 3:  Loss:     0.8751 Validation Accuracy: 0.577800\n",
      "Epoch 24, CIFAR-10 Batch 4:  Loss:     1.0327 Validation Accuracy: 0.584000\n",
      "Epoch 24, CIFAR-10 Batch 5:  Loss:     1.1077 Validation Accuracy: 0.566000\n",
      "Epoch 25, CIFAR-10 Batch 1:  Loss:     1.0461 Validation Accuracy: 0.579200\n",
      "Epoch 25, CIFAR-10 Batch 2:  Loss:     1.0267 Validation Accuracy: 0.582400\n",
      "Epoch 25, CIFAR-10 Batch 3:  Loss:     0.8103 Validation Accuracy: 0.580400\n",
      "Epoch 25, CIFAR-10 Batch 4:  Loss:     1.0494 Validation Accuracy: 0.581000\n",
      "Epoch 25, CIFAR-10 Batch 5:  Loss:     1.0362 Validation Accuracy: 0.579600\n",
      "Epoch 26, CIFAR-10 Batch 1:  Loss:     1.0443 Validation Accuracy: 0.582200\n",
      "Epoch 26, CIFAR-10 Batch 2:  Loss:     0.9765 Validation Accuracy: 0.572000\n",
      "Epoch 26, CIFAR-10 Batch 3:  Loss:     0.8338 Validation Accuracy: 0.586000\n",
      "Epoch 26, CIFAR-10 Batch 4:  Loss:     0.9966 Validation Accuracy: 0.588200\n",
      "Epoch 26, CIFAR-10 Batch 5:  Loss:     1.0594 Validation Accuracy: 0.592200\n",
      "Epoch 27, CIFAR-10 Batch 1:  Loss:     1.0560 Validation Accuracy: 0.581000\n",
      "Epoch 27, CIFAR-10 Batch 2:  Loss:     0.9608 Validation Accuracy: 0.579000\n",
      "Epoch 27, CIFAR-10 Batch 3:  Loss:     0.8490 Validation Accuracy: 0.579400\n",
      "Epoch 27, CIFAR-10 Batch 4:  Loss:     0.9963 Validation Accuracy: 0.593000\n",
      "Epoch 27, CIFAR-10 Batch 5:  Loss:     1.0299 Validation Accuracy: 0.578000\n",
      "Epoch 28, CIFAR-10 Batch 1:  Loss:     0.9579 Validation Accuracy: 0.593600\n",
      "Epoch 28, CIFAR-10 Batch 2:  Loss:     0.9941 Validation Accuracy: 0.578200\n",
      "Epoch 28, CIFAR-10 Batch 3:  Loss:     0.8378 Validation Accuracy: 0.590000\n",
      "Epoch 28, CIFAR-10 Batch 4:  Loss:     1.0235 Validation Accuracy: 0.591400\n",
      "Epoch 28, CIFAR-10 Batch 5:  Loss:     1.0210 Validation Accuracy: 0.590400\n",
      "Epoch 29, CIFAR-10 Batch 1:  Loss:     1.0591 Validation Accuracy: 0.590600\n",
      "Epoch 29, CIFAR-10 Batch 2:  Loss:     0.9963 Validation Accuracy: 0.589800\n",
      "Epoch 29, CIFAR-10 Batch 3:  Loss:     0.8163 Validation Accuracy: 0.594800\n",
      "Epoch 29, CIFAR-10 Batch 4:  Loss:     0.9641 Validation Accuracy: 0.573600\n",
      "Epoch 29, CIFAR-10 Batch 5:  Loss:     1.0215 Validation Accuracy: 0.592600\n",
      "Epoch 30, CIFAR-10 Batch 1:  Loss:     0.9687 Validation Accuracy: 0.604200\n",
      "Epoch 30, CIFAR-10 Batch 2:  Loss:     0.9792 Validation Accuracy: 0.580200\n",
      "Epoch 30, CIFAR-10 Batch 3:  Loss:     0.8105 Validation Accuracy: 0.592800\n",
      "Epoch 30, CIFAR-10 Batch 4:  Loss:     0.9429 Validation Accuracy: 0.597000\n",
      "Epoch 30, CIFAR-10 Batch 5:  Loss:     0.9991 Validation Accuracy: 0.596800\n",
      "Epoch 31, CIFAR-10 Batch 1:  Loss:     0.9497 Validation Accuracy: 0.602800\n",
      "Epoch 31, CIFAR-10 Batch 2:  Loss:     0.9218 Validation Accuracy: 0.592600\n",
      "Epoch 31, CIFAR-10 Batch 3:  Loss:     0.8037 Validation Accuracy: 0.598600\n",
      "Epoch 31, CIFAR-10 Batch 4:  Loss:     0.9616 Validation Accuracy: 0.600000\n",
      "Epoch 31, CIFAR-10 Batch 5:  Loss:     0.9598 Validation Accuracy: 0.597000\n",
      "Epoch 32, CIFAR-10 Batch 1:  Loss:     0.9228 Validation Accuracy: 0.601400\n",
      "Epoch 32, CIFAR-10 Batch 2:  Loss:     0.9419 Validation Accuracy: 0.577800\n",
      "Epoch 32, CIFAR-10 Batch 3:  Loss:     0.7928 Validation Accuracy: 0.601200\n",
      "Epoch 32, CIFAR-10 Batch 4:  Loss:     0.9437 Validation Accuracy: 0.597000\n",
      "Epoch 32, CIFAR-10 Batch 5:  Loss:     0.9787 Validation Accuracy: 0.595600\n",
      "Epoch 33, CIFAR-10 Batch 1:  Loss:     0.9473 Validation Accuracy: 0.604200\n",
      "Epoch 33, CIFAR-10 Batch 2:  Loss:     0.9791 Validation Accuracy: 0.602000\n",
      "Epoch 33, CIFAR-10 Batch 3:  Loss:     0.7785 Validation Accuracy: 0.595600\n",
      "Epoch 33, CIFAR-10 Batch 4:  Loss:     0.9537 Validation Accuracy: 0.602200\n",
      "Epoch 33, CIFAR-10 Batch 5:  Loss:     0.9908 Validation Accuracy: 0.606000\n",
      "Epoch 34, CIFAR-10 Batch 1:  Loss:     0.9545 Validation Accuracy: 0.598200\n",
      "Epoch 34, CIFAR-10 Batch 2:  Loss:     0.9110 Validation Accuracy: 0.595000\n",
      "Epoch 34, CIFAR-10 Batch 3:  Loss:     0.7994 Validation Accuracy: 0.603800\n",
      "Epoch 34, CIFAR-10 Batch 4:  Loss:     0.9666 Validation Accuracy: 0.607800\n",
      "Epoch 34, CIFAR-10 Batch 5:  Loss:     0.9491 Validation Accuracy: 0.609600\n",
      "Epoch 35, CIFAR-10 Batch 1:  Loss:     0.8666 Validation Accuracy: 0.592400\n",
      "Epoch 35, CIFAR-10 Batch 2:  Loss:     0.9141 Validation Accuracy: 0.610200\n",
      "Epoch 35, CIFAR-10 Batch 3:  Loss:     0.7602 Validation Accuracy: 0.615000\n",
      "Epoch 35, CIFAR-10 Batch 4:  Loss:     0.9546 Validation Accuracy: 0.611000\n",
      "Epoch 35, CIFAR-10 Batch 5:  Loss:     0.9671 Validation Accuracy: 0.603200\n",
      "Epoch 36, CIFAR-10 Batch 1:  Loss:     0.9146 Validation Accuracy: 0.602400\n",
      "Epoch 36, CIFAR-10 Batch 2:  Loss:     0.9101 Validation Accuracy: 0.593200\n",
      "Epoch 36, CIFAR-10 Batch 3:  Loss:     0.7551 Validation Accuracy: 0.608200\n",
      "Epoch 36, CIFAR-10 Batch 4:  Loss:     0.9032 Validation Accuracy: 0.607400\n",
      "Epoch 36, CIFAR-10 Batch 5:  Loss:     0.9275 Validation Accuracy: 0.601800\n",
      "Epoch 37, CIFAR-10 Batch 1:  Loss:     0.9114 Validation Accuracy: 0.612200\n",
      "Epoch 37, CIFAR-10 Batch 2:  Loss:     0.8886 Validation Accuracy: 0.601400\n",
      "Epoch 37, CIFAR-10 Batch 3:  Loss:     0.7685 Validation Accuracy: 0.607400\n",
      "Epoch 37, CIFAR-10 Batch 4:  Loss:     0.9123 Validation Accuracy: 0.611800\n",
      "Epoch 37, CIFAR-10 Batch 5:  Loss:     0.9321 Validation Accuracy: 0.606400\n",
      "Epoch 38, CIFAR-10 Batch 1:  Loss:     0.9038 Validation Accuracy: 0.606200\n",
      "Epoch 38, CIFAR-10 Batch 2:  Loss:     0.8982 Validation Accuracy: 0.606800\n",
      "Epoch 38, CIFAR-10 Batch 3:  Loss:     0.7775 Validation Accuracy: 0.597200\n",
      "Epoch 38, CIFAR-10 Batch 4:  Loss:     0.8989 Validation Accuracy: 0.607000\n",
      "Epoch 38, CIFAR-10 Batch 5:  Loss:     0.9141 Validation Accuracy: 0.601600\n",
      "Epoch 39, CIFAR-10 Batch 1:  Loss:     0.8987 Validation Accuracy: 0.619800\n",
      "Epoch 39, CIFAR-10 Batch 2:  Loss:     0.8477 Validation Accuracy: 0.609200\n",
      "Epoch 39, CIFAR-10 Batch 3:  Loss:     0.7961 Validation Accuracy: 0.598800\n",
      "Epoch 39, CIFAR-10 Batch 4:  Loss:     0.8764 Validation Accuracy: 0.601600\n",
      "Epoch 39, CIFAR-10 Batch 5:  Loss:     0.9065 Validation Accuracy: 0.606200\n",
      "Epoch 40, CIFAR-10 Batch 1:  Loss:     0.9003 Validation Accuracy: 0.614600\n",
      "Epoch 40, CIFAR-10 Batch 2:  Loss:     0.9169 Validation Accuracy: 0.600000\n",
      "Epoch 40, CIFAR-10 Batch 3:  Loss:     0.7599 Validation Accuracy: 0.603400\n",
      "Epoch 40, CIFAR-10 Batch 4:  Loss:     0.9293 Validation Accuracy: 0.609200\n",
      "Epoch 40, CIFAR-10 Batch 5:  Loss:     0.8706 Validation Accuracy: 0.606800\n",
      "Epoch 41, CIFAR-10 Batch 1:  Loss:     0.8821 Validation Accuracy: 0.612600\n",
      "Epoch 41, CIFAR-10 Batch 2:  Loss:     0.8610 Validation Accuracy: 0.604400\n",
      "Epoch 41, CIFAR-10 Batch 3:  Loss:     0.7671 Validation Accuracy: 0.613200\n",
      "Epoch 41, CIFAR-10 Batch 4:  Loss:     0.8827 Validation Accuracy: 0.614000\n",
      "Epoch 41, CIFAR-10 Batch 5:  Loss:     0.9193 Validation Accuracy: 0.617000\n",
      "Epoch 42, CIFAR-10 Batch 1:  Loss:     0.8881 Validation Accuracy: 0.616600\n",
      "Epoch 42, CIFAR-10 Batch 2:  Loss:     0.8914 Validation Accuracy: 0.601800\n",
      "Epoch 42, CIFAR-10 Batch 3:  Loss:     0.7299 Validation Accuracy: 0.610600\n",
      "Epoch 42, CIFAR-10 Batch 4:  Loss:     0.8495 Validation Accuracy: 0.613200\n",
      "Epoch 42, CIFAR-10 Batch 5:  Loss:     0.8926 Validation Accuracy: 0.613600\n",
      "Epoch 43, CIFAR-10 Batch 1:  Loss:     0.9141 Validation Accuracy: 0.606800\n",
      "Epoch 43, CIFAR-10 Batch 2:  Loss:     0.8829 Validation Accuracy: 0.612200\n",
      "Epoch 43, CIFAR-10 Batch 3:  Loss:     0.7505 Validation Accuracy: 0.609600\n",
      "Epoch 43, CIFAR-10 Batch 4:  Loss:     0.8793 Validation Accuracy: 0.590200\n",
      "Epoch 43, CIFAR-10 Batch 5:  Loss:     0.8822 Validation Accuracy: 0.614600\n",
      "Epoch 44, CIFAR-10 Batch 1:  Loss:     0.8767 Validation Accuracy: 0.623800\n",
      "Epoch 44, CIFAR-10 Batch 2:  Loss:     0.8452 Validation Accuracy: 0.611600\n",
      "Epoch 44, CIFAR-10 Batch 3:  Loss:     0.7559 Validation Accuracy: 0.603200\n",
      "Epoch 44, CIFAR-10 Batch 4:  Loss:     0.8662 Validation Accuracy: 0.619600\n",
      "Epoch 44, CIFAR-10 Batch 5:  Loss:     0.8486 Validation Accuracy: 0.610600\n",
      "Epoch 45, CIFAR-10 Batch 1:  Loss:     0.8561 Validation Accuracy: 0.615000\n",
      "Epoch 45, CIFAR-10 Batch 2:  Loss:     0.8984 Validation Accuracy: 0.606800\n",
      "Epoch 45, CIFAR-10 Batch 3:  Loss:     0.7386 Validation Accuracy: 0.620200\n",
      "Epoch 45, CIFAR-10 Batch 4:  Loss:     0.8439 Validation Accuracy: 0.615000\n",
      "Epoch 45, CIFAR-10 Batch 5:  Loss:     0.8689 Validation Accuracy: 0.602800\n",
      "Epoch 46, CIFAR-10 Batch 1:  Loss:     0.8481 Validation Accuracy: 0.614200\n",
      "Epoch 46, CIFAR-10 Batch 2:  Loss:     0.8493 Validation Accuracy: 0.613600\n",
      "Epoch 46, CIFAR-10 Batch 3:  Loss:     0.7404 Validation Accuracy: 0.601200\n",
      "Epoch 46, CIFAR-10 Batch 4:  Loss:     0.8514 Validation Accuracy: 0.619800\n",
      "Epoch 46, CIFAR-10 Batch 5:  Loss:     0.8266 Validation Accuracy: 0.624400\n",
      "Epoch 47, CIFAR-10 Batch 1:  Loss:     0.8390 Validation Accuracy: 0.623400\n",
      "Epoch 47, CIFAR-10 Batch 2:  Loss:     0.8626 Validation Accuracy: 0.601600\n",
      "Epoch 47, CIFAR-10 Batch 3:  Loss:     0.7394 Validation Accuracy: 0.612800\n",
      "Epoch 47, CIFAR-10 Batch 4:  Loss:     0.8428 Validation Accuracy: 0.615400\n",
      "Epoch 47, CIFAR-10 Batch 5:  Loss:     0.8820 Validation Accuracy: 0.610600\n",
      "Epoch 48, CIFAR-10 Batch 1:  Loss:     0.8462 Validation Accuracy: 0.622800\n",
      "Epoch 48, CIFAR-10 Batch 2:  Loss:     0.8363 Validation Accuracy: 0.614000\n",
      "Epoch 48, CIFAR-10 Batch 3:  Loss:     0.7652 Validation Accuracy: 0.595400\n",
      "Epoch 48, CIFAR-10 Batch 4:  Loss:     0.8167 Validation Accuracy: 0.616400\n",
      "Epoch 48, CIFAR-10 Batch 5:  Loss:     0.8387 Validation Accuracy: 0.618000\n",
      "Epoch 49, CIFAR-10 Batch 1:  Loss:     0.8389 Validation Accuracy: 0.619600\n",
      "Epoch 49, CIFAR-10 Batch 2:  Loss:     0.8277 Validation Accuracy: 0.619200\n",
      "Epoch 49, CIFAR-10 Batch 3:  Loss:     0.7377 Validation Accuracy: 0.614200\n",
      "Epoch 49, CIFAR-10 Batch 4:  Loss:     0.8277 Validation Accuracy: 0.619800\n",
      "Epoch 49, CIFAR-10 Batch 5:  Loss:     0.8866 Validation Accuracy: 0.617800\n",
      "Epoch 50, CIFAR-10 Batch 1:  Loss:     0.8432 Validation Accuracy: 0.627200\n",
      "Epoch 50, CIFAR-10 Batch 2:  Loss:     0.8474 Validation Accuracy: 0.617600\n",
      "Epoch 50, CIFAR-10 Batch 3:  Loss:     0.7472 Validation Accuracy: 0.618600\n",
      "Epoch 50, CIFAR-10 Batch 4:  Loss:     0.8320 Validation Accuracy: 0.625600\n",
      "Epoch 50, CIFAR-10 Batch 5:  Loss:     0.8294 Validation Accuracy: 0.623200\n"
     ]
    }
   ],
   "source": [
    "\"\"\"\n",
    "DON'T MODIFY ANYTHING IN THIS CELL\n",
    "\"\"\"\n",
    "save_model_path = './image_classification'\n",
    "\n",
    "print('Training...')\n",
    "with tf.Session() as sess:\n",
    "    # Initializing the variables\n",
    "    sess.run(tf.global_variables_initializer())\n",
    "    \n",
    "    # Training cycle\n",
    "    for epoch in range(epochs):\n",
    "        # Loop over all batches\n",
    "        n_batches = 5\n",
    "        for batch_i in range(1, n_batches + 1):\n",
    "            for batch_features, batch_labels in helper.load_preprocess_training_batch(batch_i, batch_size):\n",
    "                train_neural_network(sess, optimizer, keep_probability, batch_features, batch_labels)\n",
    "            print('Epoch {:>2}, CIFAR-10 Batch {}:  '.format(epoch + 1, batch_i), end='')\n",
    "            print_stats(sess, batch_features, batch_labels, cost, accuracy)\n",
    "            \n",
    "    # Save Model\n",
    "    saver = tf.train.Saver()\n",
    "    save_path = saver.save(sess, save_model_path)"
   ]
  },
  {
   "cell_type": "markdown",
   "metadata": {},
   "source": [
    "# 检查点\n",
    "\n",
    "模型已保存到本地。\n",
    "\n",
    "## 测试模型\n",
    "\n",
    "利用测试数据集测试你的模型。这将是最终的准确率。你的准确率应该高于 50%。如果没达到，请继续调整模型结构和参数。"
   ]
  },
  {
   "cell_type": "code",
   "execution_count": 18,
   "metadata": {
    "collapsed": false
   },
   "outputs": [
    {
     "name": "stdout",
     "output_type": "stream",
     "text": [
      "INFO:tensorflow:Restoring parameters from ./image_classification\n",
      "Testing Accuracy: 0.62333984375\n",
      "\n"
     ]
    },
    {
     "data": {
      "image/png": "[encoded data removed]",
      "text/plain": [
       "<matplotlib.figure.Figure at 0x276570f26a0>"
      ]
     },
     "metadata": {
      "image/png": {
       "height": 319,
       "width": 355
      }
     },
     "output_type": "display_data"
    }
   ],
   "source": [
    "\"\"\"\n",
    "DON'T MODIFY ANYTHING IN THIS CELL\n",
    "\"\"\"\n",
    "%matplotlib inline\n",
    "%config InlineBackend.figure_format = 'retina'\n",
    "\n",
    "import tensorflow as tf\n",
    "import pickle\n",
    "import helper\n",
    "import random\n",
    "\n",
    "# Set batch size if not already set\n",
    "try:\n",
    "    if batch_size:\n",
    "        pass\n",
    "except NameError:\n",
    "    batch_size = 64\n",
    "\n",
    "save_model_path = './image_classification'\n",
    "n_samples = 4\n",
    "top_n_predictions = 3\n",
    "\n",
    "def test_model():\n",
    "    \"\"\"\n",
    "    Test the saved model against the test dataset\n",
    "    \"\"\"\n",
    "\n",
    "    test_features, test_labels = pickle.load(open('preprocess_test.p', mode='rb'))\n",
    "    loaded_graph = tf.Graph()\n",
    "\n",
    "    with tf.Session(graph=loaded_graph) as sess:\n",
    "        # Load model\n",
    "        loader = tf.train.import_meta_graph(save_model_path + '.meta')\n",
    "        loader.restore(sess, save_model_path)\n",
    "\n",
    "        # Get Tensors from loaded model\n",
    "        loaded_x = loaded_graph.get_tensor_by_name('x:0')\n",
    "        loaded_y = loaded_graph.get_tensor_by_name('y:0')\n",
    "        loaded_keep_prob = loaded_graph.get_tensor_by_name('keep_prob:0')\n",
    "        loaded_logits = loaded_graph.get_tensor_by_name('logits:0')\n",
    "        loaded_acc = loaded_graph.get_tensor_by_name('accuracy:0')\n",
    "        \n",
    "        # Get accuracy in batches for memory limitations\n",
    "        test_batch_acc_total = 0\n",
    "        test_batch_count = 0\n",
    "        \n",
    "        for test_feature_batch, test_label_batch in helper.batch_features_labels(test_features, test_labels, batch_size):\n",
    "            test_batch_acc_total += sess.run(\n",
    "                loaded_acc,\n",
    "                feed_dict={loaded_x: test_feature_batch, loaded_y: test_label_batch, loaded_keep_prob: 1.0})\n",
    "            test_batch_count += 1\n",
    "\n",
    "        print('Testing Accuracy: {}\\n'.format(test_batch_acc_total/test_batch_count))\n",
    "\n",
    "        # Print Random Samples\n",
    "        random_test_features, random_test_labels = tuple(zip(*random.sample(list(zip(test_features, test_labels)), n_samples)))\n",
    "        random_test_predictions = sess.run(\n",
    "            tf.nn.top_k(tf.nn.softmax(loaded_logits), top_n_predictions),\n",
    "            feed_dict={loaded_x: random_test_features, loaded_y: random_test_labels, loaded_keep_prob: 1.0})\n",
    "        helper.display_image_predictions(random_test_features, random_test_labels, random_test_predictions)\n",
    "\n",
    "\n",
    "test_model()"
   ]
  },
  {
   "cell_type": "markdown",
   "metadata": {},
   "source": [
    "## 为何准确率只有50-80%？\n",
    "\n",
    "你可能想问，为何准确率不能更高了？首先，对于简单的 CNN 网络来说，50% 已经不低了。纯粹猜测的准确率为10%。但是，你可能注意到有人的准确率[远远超过 80%](http://rodrigob.github.io/are_we_there_yet/build/classification_datasets_results.html#43494641522d3130)。这是因为我们还没有介绍所有的神经网络知识。我们还需要掌握一些其他技巧。\n",
    "\n",
    "## 提交项目\n",
    "\n",
    "提交项目时，确保先运行所有单元，然后再保存记事本。将 notebook 文件另存为“dlnd_image_classification.ipynb”，再在目录 \"File\" -> \"Download as\" 另存为 HTML 格式。请在提交的项目中包含 “helper.py” 和 “problem_unittests.py” 文件。\n"
   ]
  },
  {
   "cell_type": "code",
   "execution_count": null,
   "metadata": {
    "collapsed": true
   },
   "outputs": [],
   "source": []
  }
 ],
 "metadata": {
  "kernelspec": {
   "display_name": "Python 3",
   "language": "python",
   "name": "python3"
  },
  "language_info": {
   "codemirror_mode": {
    "name": "ipython",
    "version": 3
   },
   "file_extension": ".py",
   "mimetype": "text/x-python",
   "name": "python",
   "nbconvert_exporter": "python",
   "pygments_lexer": "ipython3",
   "version": "3.5.2"
  }
 },
 "nbformat": 4,
 "nbformat_minor": 0
}
